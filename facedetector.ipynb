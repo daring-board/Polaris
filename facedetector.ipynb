{
  "nbformat": 4,
  "nbformat_minor": 0,
  "metadata": {
    "colab": {
      "name": "facedetector_sample.ipynb",
      "version": "0.3.2",
      "provenance": [],
      "collapsed_sections": []
    },
    "kernelspec": {
      "name": "python3",
      "display_name": "Python 3"
    }
  },
  "cells": [
    {
      "cell_type": "code",
      "metadata": {
        "id": "KYVKshhY7BQU",
        "colab_type": "code",
        "outputId": "555d60f2-c358-4c32-e30b-b5666c44757b",
        "colab": {
          "base_uri": "https://localhost:8080/",
          "height": 122
        }
      },
      "source": [
        "import cv2\n",
        "from google.colab import drive\n",
        "drive.mount('/content/drive')\n",
        "!pip install mtcnn"
      ],
      "execution_count": 0,
      "outputs": [
        {
          "output_type": "stream",
          "text": [
            "Go to this URL in a browser: https://accounts.google.com/o/oauth2/auth?client_id=947318989803-6bn6qk8qdgf4n4g3pfee6491hc0brc4i.apps.googleusercontent.com&redirect_uri=urn%3Aietf%3Awg%3Aoauth%3A2.0%3Aoob&scope=email%20https%3A%2F%2Fwww.googleapis.com%2Fauth%2Fdocs.test%20https%3A%2F%2Fwww.googleapis.com%2Fauth%2Fdrive%20https%3A%2F%2Fwww.googleapis.com%2Fauth%2Fdrive.photos.readonly%20https%3A%2F%2Fwww.googleapis.com%2Fauth%2Fpeopleapi.readonly&response_type=code\n",
            "\n",
            "Enter your authorization code:\n",
            "··········\n",
            "Mounted at /content/drive\n"
          ],
          "name": "stdout"
        }
      ]
    },
    {
      "cell_type": "code",
      "metadata": {
        "id": "N4ms4J8N8s4a",
        "colab_type": "code",
        "outputId": "fe14a75e-ceb3-476f-d66c-f0638d76ca6e",
        "colab": {
          "base_uri": "https://localhost:8080/",
          "height": 187
        }
      },
      "source": [
        "import os\n",
        "from mtcnn.mtcnn import MTCNN\n",
        "base_path = '/content/drive/My Drive/share/kanjani/YY/'\n",
        "dist_path = '/content/drive/My Drive/share/kanjani/resultYY/'\n",
        "f_list = os.listdir(base_path)\n",
        "\n",
        "detector = MTCNN()\n",
        "for f in f_list:\n",
        "  print(f)\n",
        "  if not os.path.isfile(base_path + f):\n",
        "    continue\n",
        "  comp = f.split('.')\n",
        "  im = cv2.imread(base_path + f)\n",
        "  img = cv2.cvtColor(im, cv2.COLOR_BGR2RGB)\n",
        "  results = detector.detect_faces(img)\n",
        "\n",
        "  for idx, item in enumerate(results):\n",
        "    x1, y1, width, height = item['box']\n",
        "    cv2.rectangle(img, (x1,y1), (x1+width, y1+height), (255, 0, 0), 2)\n",
        "    cv2.imwrite(dist_path + comp[0] + '_%d.jpeg'%idx, im[y1: y1+height, x1: x1+width,:])\n",
        "  "
      ],
      "execution_count": 0,
      "outputs": [
        {
          "output_type": "stream",
          "text": [
            "IMG_6307.JPG\n",
            "IMG_6304.JPG\n",
            "IMG_6306.JPG\n",
            "IMG_6301.JPG\n",
            "IMG_6303.JPG\n",
            "IMG_6302.JPG\n",
            "IMG_6305.JPG\n",
            "IMG_6300.JPG\n",
            "IMG_6298.JPG\n",
            "IMG_6299.JPG\n"
          ],
          "name": "stdout"
        }
      ]
    }
  ]
}